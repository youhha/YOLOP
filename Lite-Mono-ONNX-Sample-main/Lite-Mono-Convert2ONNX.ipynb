{
  "cells": [
    {
      "cell_type": "markdown",
      "metadata": {
        "id": "6W5UDseKqpts"
      },
      "source": [
        "# パッケージインストール"
      ]
    },
    {
      "cell_type": "code",
      "execution_count": 2,
      "metadata": {
        "id": "xcDf1jUk7aAh"
      },
      "outputs": [
        {
          "name": "stdout",
          "output_type": "stream",
          "text": [
            "Requirement already satisfied: timm in /mnt/mydata/anaconda3/envs/yolop/lib/python3.8/site-packages (0.9.7)\n",
            "Requirement already satisfied: torch>=1.7 in /mnt/mydata/anaconda3/envs/yolop/lib/python3.8/site-packages (from timm) (2.0.1)\n",
            "Requirement already satisfied: torchvision in /mnt/mydata/anaconda3/envs/yolop/lib/python3.8/site-packages (from timm) (0.15.2)\n",
            "Requirement already satisfied: pyyaml in /mnt/mydata/anaconda3/envs/yolop/lib/python3.8/site-packages (from timm) (6.0.1)\n",
            "Requirement already satisfied: huggingface-hub in /mnt/mydata/anaconda3/envs/yolop/lib/python3.8/site-packages (from timm) (0.17.2)\n",
            "Requirement already satisfied: safetensors in /mnt/mydata/anaconda3/envs/yolop/lib/python3.8/site-packages (from timm) (0.3.3)\n",
            "Requirement already satisfied: filelock in /mnt/mydata/anaconda3/envs/yolop/lib/python3.8/site-packages (from torch>=1.7->timm) (3.12.4)\n",
            "Requirement already satisfied: typing-extensions in /mnt/mydata/anaconda3/envs/yolop/lib/python3.8/site-packages (from torch>=1.7->timm) (4.8.0)\n",
            "Requirement already satisfied: sympy in /mnt/mydata/anaconda3/envs/yolop/lib/python3.8/site-packages (from torch>=1.7->timm) (1.12)\n",
            "Requirement already satisfied: networkx in /mnt/mydata/anaconda3/envs/yolop/lib/python3.8/site-packages (from torch>=1.7->timm) (3.1)\n",
            "Requirement already satisfied: jinja2 in /mnt/mydata/anaconda3/envs/yolop/lib/python3.8/site-packages (from torch>=1.7->timm) (3.1.2)\n",
            "Requirement already satisfied: nvidia-cuda-nvrtc-cu11==11.7.99 in /mnt/mydata/anaconda3/envs/yolop/lib/python3.8/site-packages (from torch>=1.7->timm) (11.7.99)\n",
            "Requirement already satisfied: nvidia-cuda-runtime-cu11==11.7.99 in /mnt/mydata/anaconda3/envs/yolop/lib/python3.8/site-packages (from torch>=1.7->timm) (11.7.99)\n",
            "Requirement already satisfied: nvidia-cuda-cupti-cu11==11.7.101 in /mnt/mydata/anaconda3/envs/yolop/lib/python3.8/site-packages (from torch>=1.7->timm) (11.7.101)\n",
            "Requirement already satisfied: nvidia-cudnn-cu11==8.5.0.96 in /mnt/mydata/anaconda3/envs/yolop/lib/python3.8/site-packages (from torch>=1.7->timm) (8.5.0.96)\n",
            "Requirement already satisfied: nvidia-cublas-cu11==11.10.3.66 in /mnt/mydata/anaconda3/envs/yolop/lib/python3.8/site-packages (from torch>=1.7->timm) (11.10.3.66)\n",
            "Requirement already satisfied: nvidia-cufft-cu11==10.9.0.58 in /mnt/mydata/anaconda3/envs/yolop/lib/python3.8/site-packages (from torch>=1.7->timm) (10.9.0.58)\n",
            "Requirement already satisfied: nvidia-curand-cu11==10.2.10.91 in /mnt/mydata/anaconda3/envs/yolop/lib/python3.8/site-packages (from torch>=1.7->timm) (10.2.10.91)\n",
            "Requirement already satisfied: nvidia-cusolver-cu11==11.4.0.1 in /mnt/mydata/anaconda3/envs/yolop/lib/python3.8/site-packages (from torch>=1.7->timm) (11.4.0.1)\n",
            "Requirement already satisfied: nvidia-cusparse-cu11==11.7.4.91 in /mnt/mydata/anaconda3/envs/yolop/lib/python3.8/site-packages (from torch>=1.7->timm) (11.7.4.91)\n",
            "Requirement already satisfied: nvidia-nccl-cu11==2.14.3 in /mnt/mydata/anaconda3/envs/yolop/lib/python3.8/site-packages (from torch>=1.7->timm) (2.14.3)\n",
            "Requirement already satisfied: nvidia-nvtx-cu11==11.7.91 in /mnt/mydata/anaconda3/envs/yolop/lib/python3.8/site-packages (from torch>=1.7->timm) (11.7.91)\n",
            "Requirement already satisfied: triton==2.0.0 in /mnt/mydata/anaconda3/envs/yolop/lib/python3.8/site-packages (from torch>=1.7->timm) (2.0.0)\n",
            "Requirement already satisfied: setuptools in /mnt/mydata/anaconda3/envs/yolop/lib/python3.8/site-packages (from nvidia-cublas-cu11==11.10.3.66->torch>=1.7->timm) (68.2.2)\n",
            "Requirement already satisfied: wheel in /mnt/mydata/anaconda3/envs/yolop/lib/python3.8/site-packages (from nvidia-cublas-cu11==11.10.3.66->torch>=1.7->timm) (0.41.2)\n",
            "Requirement already satisfied: cmake in /mnt/mydata/anaconda3/envs/yolop/lib/python3.8/site-packages (from triton==2.0.0->torch>=1.7->timm) (3.27.5)\n",
            "Requirement already satisfied: lit in /mnt/mydata/anaconda3/envs/yolop/lib/python3.8/site-packages (from triton==2.0.0->torch>=1.7->timm) (16.0.6)\n",
            "Requirement already satisfied: fsspec in /mnt/mydata/anaconda3/envs/yolop/lib/python3.8/site-packages (from huggingface-hub->timm) (2023.9.1)\n",
            "Requirement already satisfied: requests in /mnt/mydata/anaconda3/envs/yolop/lib/python3.8/site-packages (from huggingface-hub->timm) (2.31.0)\n",
            "Requirement already satisfied: tqdm>=4.42.1 in /home/nio/.local/lib/python3.8/site-packages (from huggingface-hub->timm) (4.66.1)\n",
            "Requirement already satisfied: packaging>=20.9 in /mnt/mydata/anaconda3/envs/yolop/lib/python3.8/site-packages (from huggingface-hub->timm) (23.1)\n",
            "Requirement already satisfied: numpy in /home/nio/.local/lib/python3.8/site-packages (from torchvision->timm) (1.24.4)\n",
            "Requirement already satisfied: pillow!=8.3.*,>=5.3.0 in /home/nio/.local/lib/python3.8/site-packages (from torchvision->timm) (10.0.0)\n",
            "Requirement already satisfied: MarkupSafe>=2.0 in /mnt/mydata/anaconda3/envs/yolop/lib/python3.8/site-packages (from jinja2->torch>=1.7->timm) (2.1.3)\n",
            "Requirement already satisfied: charset-normalizer<4,>=2 in /home/nio/.local/lib/python3.8/site-packages (from requests->huggingface-hub->timm) (3.2.0)\n",
            "Requirement already satisfied: idna<4,>=2.5 in /mnt/mydata/anaconda3/envs/yolop/lib/python3.8/site-packages (from requests->huggingface-hub->timm) (3.4)\n",
            "Requirement already satisfied: urllib3<3,>=1.21.1 in /mnt/mydata/anaconda3/envs/yolop/lib/python3.8/site-packages (from requests->huggingface-hub->timm) (1.26.16)\n",
            "Requirement already satisfied: certifi>=2017.4.17 in /mnt/mydata/anaconda3/envs/yolop/lib/python3.8/site-packages (from requests->huggingface-hub->timm) (2023.7.22)\n",
            "Requirement already satisfied: mpmath>=0.19 in /mnt/mydata/anaconda3/envs/yolop/lib/python3.8/site-packages (from sympy->torch>=1.7->timm) (1.3.0)\n",
            "Requirement already satisfied: onnx in /mnt/mydata/anaconda3/envs/yolop/lib/python3.8/site-packages (1.14.1)\n",
            "Requirement already satisfied: numpy in /home/nio/.local/lib/python3.8/site-packages (from onnx) (1.24.4)\n",
            "Requirement already satisfied: protobuf>=3.20.2 in /home/nio/.local/lib/python3.8/site-packages (from onnx) (3.20.3)\n",
            "Requirement already satisfied: typing-extensions>=3.6.2.1 in /mnt/mydata/anaconda3/envs/yolop/lib/python3.8/site-packages (from onnx) (4.8.0)\n",
            "Requirement already satisfied: onnxsim in /mnt/mydata/anaconda3/envs/yolop/lib/python3.8/site-packages (0.4.33)\n",
            "Requirement already satisfied: onnx in /mnt/mydata/anaconda3/envs/yolop/lib/python3.8/site-packages (from onnxsim) (1.14.1)\n",
            "Requirement already satisfied: rich in /mnt/mydata/anaconda3/envs/yolop/lib/python3.8/site-packages (from onnxsim) (13.5.3)\n",
            "Requirement already satisfied: numpy in /home/nio/.local/lib/python3.8/site-packages (from onnx->onnxsim) (1.24.4)\n",
            "Requirement already satisfied: protobuf>=3.20.2 in /home/nio/.local/lib/python3.8/site-packages (from onnx->onnxsim) (3.20.3)\n",
            "Requirement already satisfied: typing-extensions>=3.6.2.1 in /mnt/mydata/anaconda3/envs/yolop/lib/python3.8/site-packages (from onnx->onnxsim) (4.8.0)\n",
            "Requirement already satisfied: markdown-it-py>=2.2.0 in /mnt/mydata/anaconda3/envs/yolop/lib/python3.8/site-packages (from rich->onnxsim) (3.0.0)\n",
            "Requirement already satisfied: pygments<3.0.0,>=2.13.0 in /mnt/mydata/anaconda3/envs/yolop/lib/python3.8/site-packages (from rich->onnxsim) (2.16.1)\n",
            "Requirement already satisfied: mdurl~=0.1 in /mnt/mydata/anaconda3/envs/yolop/lib/python3.8/site-packages (from markdown-it-py>=2.2.0->rich->onnxsim) (0.1.2)\n",
            "Requirement already satisfied: onnxruntime in /mnt/mydata/anaconda3/envs/yolop/lib/python3.8/site-packages (1.16.0)\n",
            "Requirement already satisfied: coloredlogs in /mnt/mydata/anaconda3/envs/yolop/lib/python3.8/site-packages (from onnxruntime) (15.0.1)\n",
            "Requirement already satisfied: flatbuffers in /mnt/mydata/anaconda3/envs/yolop/lib/python3.8/site-packages (from onnxruntime) (23.5.26)\n",
            "Requirement already satisfied: numpy>=1.21.6 in /home/nio/.local/lib/python3.8/site-packages (from onnxruntime) (1.24.4)\n",
            "Requirement already satisfied: packaging in /mnt/mydata/anaconda3/envs/yolop/lib/python3.8/site-packages (from onnxruntime) (23.1)\n",
            "Requirement already satisfied: protobuf in /home/nio/.local/lib/python3.8/site-packages (from onnxruntime) (3.20.3)\n",
            "Requirement already satisfied: sympy in /mnt/mydata/anaconda3/envs/yolop/lib/python3.8/site-packages (from onnxruntime) (1.12)\n",
            "Requirement already satisfied: humanfriendly>=9.1 in /mnt/mydata/anaconda3/envs/yolop/lib/python3.8/site-packages (from coloredlogs->onnxruntime) (10.0)\n",
            "Requirement already satisfied: mpmath>=0.19 in /mnt/mydata/anaconda3/envs/yolop/lib/python3.8/site-packages (from sympy->onnxruntime) (1.3.0)\n"
          ]
        }
      ],
      "source": [
        "!pip install timm\n",
        "!pip install -U onnx\n",
        "!pip install -U onnxsim\n",
        "!pip install -U onnxruntime"
      ]
    },
    {
      "cell_type": "markdown",
      "metadata": {
        "id": "ZGF9MtPgq-t0"
      },
      "source": [
        "# Lite-Monoクローン"
      ]
    },
    {
      "cell_type": "code",
      "execution_count": null,
      "metadata": {
        "id": "vgpMxSM73w19"
      },
      "outputs": [],
      "source": [
        "!git clone https://github.com/noahzn/Lite-Mono"
      ]
    },
    {
      "cell_type": "code",
      "execution_count": null,
      "metadata": {
        "id": "uyqfQsmg4C7X"
      },
      "outputs": [],
      "source": [
        "%cd Lite-Mono"
      ]
    },
    {
      "cell_type": "markdown",
      "metadata": {
        "id": "3IvJo_mnrDLi"
      },
      "source": [
        "# 重みダウンロード"
      ]
    },
    {
      "cell_type": "code",
      "execution_count": null,
      "metadata": {
        "id": "5gvRXP075qMX"
      },
      "outputs": [],
      "source": [
        "!mkdir weights"
      ]
    },
    {
      "cell_type": "code",
      "execution_count": 7,
      "metadata": {
        "id": "FzCfsADf4HJW"
      },
      "outputs": [
        {
          "name": "stdout",
          "output_type": "stream",
          "text": [
            "weights/lite-mono_640x192.zip: 没有那个文件或目录\n",
            "weights/lite-mono-small_640x192.zip: 没有那个文件或目录\n",
            "weights/lite-mono-tiny_640x192.zip: 没有那个文件或目录\n",
            "weights/lite-mono-8m_640x192.zip: 没有那个文件或目录\n",
            "weights/lite-mono_1024x320.zip: 没有那个文件或目录\n",
            "weights/lite-mono-small_1024x320.zip: 没有那个文件或目录\n",
            "weights/lite-mono-tiny_1024x320.zip: 没有那个文件或目录\n",
            "weights/lite-mono-8m_1024x320.zip: 没有那个文件或目录\n"
          ]
        }
      ],
      "source": [
        "!wget -O weights/lite-mono_640x192.zip 'https://surfdrive.surf.nl/files/index.php/s/CUjiK221EFLyXDY/download'\n",
        "!wget -O weights/lite-mono-small_640x192.zip 'https://surfdrive.surf.nl/files/index.php/s/8cuZNH1CkNtQwxQ/download'\n",
        "!wget -O weights/lite-mono-tiny_640x192.zip 'https://surfdrive.surf.nl/files/index.php/s/TFDlF3wYQy0Nhmg/download'\n",
        "!wget -O weights/lite-mono-8m_640x192.zip 'https://surfdrive.surf.nl/files/index.php/s/UlkVBi1p99NFWWI/download'\n",
        "\n",
        "!wget -O weights/lite-mono_1024x320.zip 'https://surfdrive.surf.nl/files/index.php/s/IK3VtPj6b5FkVnl/download'\n",
        "!wget -O weights/lite-mono-small_1024x320.zip 'https://surfdrive.surf.nl/files/index.php/s/w8mvJMkB1dP15pu/download'\n",
        "!wget -O weights/lite-mono-tiny_1024x320.zip 'https://surfdrive.surf.nl/files/index.php/s/myxcplTciOkgu5w/download'\n",
        "!wget -O weights/lite-mono-8m_1024x320.zip 'https://surfdrive.surf.nl/files/index.php/s/mgonNFAvoEJmMas/download'"
      ]
    },
    {
      "cell_type": "code",
      "execution_count": null,
      "metadata": {
        "id": "0bX4gXTy6Zuj"
      },
      "outputs": [],
      "source": [
        "!unzip weights/lite-mono_640x192.zip -d weights\n",
        "!unzip weights/lite-mono-small_640x192.zip -d weights\n",
        "!unzip weights/lite-mono-tiny_640x192.zip -d weights\n",
        "!unzip weights/lite-mono-8m_640x192.zip -d weights\n",
        "\n",
        "!unzip weights/lite-mono_1024x320.zip -d weights\n",
        "!unzip weights/lite-mono-small_1024x320.zip -d weights\n",
        "!unzip weights/lite-mono-tiny_1024x320.zip -d weights\n",
        "!unzip weights/lite-mono-8m_1024x320.zip -d weights"
      ]
    },
    {
      "cell_type": "markdown",
      "metadata": {
        "id": "9YzaRjVTz-Ys"
      },
      "source": [
        "# ONNX変換用にデコーダーの出力を修正"
      ]
    },
    {
      "cell_type": "code",
      "execution_count": null,
      "metadata": {
        "id": "a_XXp905kxdX"
      },
      "outputs": [],
      "source": [
        "with open('networks/depth_decoder.py') as fp:\n",
        "    file_lines = fp.read()\n",
        "\n",
        "file_lines = file_lines.replace(\n",
        "    'return self.outputs',\n",
        "    'return self.outputs[(\"disp\", 0)]',\n",
        ")\n",
        "\n",
        "with open('networks/depth_decoder.py', mode=\"w\") as fp:\n",
        "    fp.write(file_lines)"
      ]
    },
    {
      "cell_type": "markdown",
      "metadata": {
        "id": "WIQEd1Rc2aG5"
      },
      "source": [
        "# Lite-Monoロード用関数"
      ]
    },
    {
      "cell_type": "code",
      "execution_count": 3,
      "metadata": {
        "id": "ducEM3fxAECi"
      },
      "outputs": [],
      "source": [
        "import os\n",
        "\n",
        "import torch\n",
        "from torchvision import transforms, datasets\n",
        "\n",
        "import networks\n",
        "\n",
        "def load_network(model='lite-mono', load_weights_folder=None, device='cuda'):\n",
        "    device = torch.device('cuda')\n",
        "\n",
        "    encoder_path = os.path.join(load_weights_folder, 'encoder.pth')\n",
        "    decoder_path = os.path.join(load_weights_folder, 'depth.pth')\n",
        "\n",
        "    encoder_dict = torch.load(encoder_path)\n",
        "    decoder_dict = torch.load(decoder_path)\n",
        "\n",
        "    feed_height = encoder_dict['height']\n",
        "    feed_width = encoder_dict['width']\n",
        "   \n",
        "    encoder = networks.LiteMono(\n",
        "        model=model,\n",
        "        height=feed_height,\n",
        "        width=feed_width,\n",
        "    )\n",
        "\n",
        "    model_dict = encoder.state_dict()\n",
        "    encoder.load_state_dict(\n",
        "        {k: v\n",
        "        for k, v in encoder_dict.items() if k in model_dict})\n",
        "\n",
        "    encoder.to(device)\n",
        "    encoder.eval()\n",
        "\n",
        "    depth_decoder = networks.DepthDecoder(encoder.num_ch_enc, scales=range(3))\n",
        "    depth_model_dict = depth_decoder.state_dict()\n",
        "    depth_decoder.load_state_dict(\n",
        "        {k: v\n",
        "        for k, v in decoder_dict.items() if k in depth_model_dict})\n",
        "\n",
        "    depth_decoder.to(device)\n",
        "    depth_decoder.eval()\n",
        "\n",
        "    return encoder, depth_decoder"
      ]
    },
    {
      "cell_type": "markdown",
      "metadata": {
        "id": "9bgIwpKC2qzv"
      },
      "source": [
        "# ONNX変換用関数"
      ]
    },
    {
      "cell_type": "code",
      "execution_count": 5,
      "metadata": {
        "id": "VlUlCQACBP5L"
      },
      "outputs": [],
      "source": [
        "def convert_to_onnx(\n",
        "    input_shape=(640, 192), \n",
        "    output_dir='',\n",
        "    encoder=None, \n",
        "    decoder=None, \n",
        "    device='cpu',\n",
        "):\n",
        "    os.makedirs(output_dir, exist_ok=True)\n",
        "\n",
        "    # encoder\n",
        "    input_image = torch.randn(1, 3, input_shape[1], input_shape[0]).to(device)\n",
        "\n",
        "    input_layer_names = ['input_image']\n",
        "    output_layer_names = ['features']\n",
        "\n",
        "    torch.onnx.export(\n",
        "        encoder, \n",
        "        input_image,\n",
        "        file_name + '/encoder.onnx', \n",
        "        verbose=True,\n",
        "        input_names=input_layer_names,\n",
        "        output_names=output_layer_names,\n",
        "        do_constant_folding=False,\n",
        "        opset_version=13,\n",
        "    )\n",
        "    \n",
        "    # decoder\n",
        "    encoder_results = encoder(input_image)\n",
        "\n",
        "    features = []\n",
        "    features.append(torch.randn(*list(encoder_results[0].shape)).to(device))\n",
        "    features.append(torch.randn(*list(encoder_results[1].shape)).to(device))\n",
        "    features.append(torch.randn(*list(encoder_results[2].shape)).to(device))\n",
        "\n",
        "    input_layer_names = ['features_1', 'features_2', 'features_3']\n",
        "    output_layer_names = ['depth']\n",
        "\n",
        "    torch.onnx.export(\n",
        "        decoder, \n",
        "        features,\n",
        "        file_name + '/decoder.onnx', \n",
        "        verbose=True,\n",
        "        input_names=input_layer_names,\n",
        "        output_names=output_layer_names,\n",
        "        do_constant_folding=False,\n",
        "        opset_version=13,\n",
        "    )\n",
        "\n",
        "    # !onnxsim $file_name'/encoder.onnx' $file_name'/encoder.onnx'\n",
        "    # !onnxsim $file_name'/decoder.onnx' $file_name'/decoder.onnx'"
      ]
    },
    {
      "cell_type": "markdown",
      "metadata": {
        "id": "n07aN4882mbg"
      },
      "source": [
        "# ONNX変換"
      ]
    },
    {
      "cell_type": "code",
      "execution_count": 6,
      "metadata": {
        "id": "Pt6yY5n91Pnz"
      },
      "outputs": [
        {
          "ename": "FileNotFoundError",
          "evalue": "[Errno 2] No such file or directory: 'weights/lite-mono_640x192/encoder.pth'",
          "output_type": "error",
          "traceback": [
            "\u001b[0;31m---------------------------------------------------------------------------\u001b[0m",
            "\u001b[0;31mFileNotFoundError\u001b[0m                         Traceback (most recent call last)",
            "Cell \u001b[0;32mIn[6], line 6\u001b[0m\n\u001b[1;32m      3\u001b[0m model\u001b[39m=\u001b[39m\u001b[39m'\u001b[39m\u001b[39mlite-mono\u001b[39m\u001b[39m'\u001b[39m\n\u001b[1;32m      5\u001b[0m load_weights_folder \u001b[39m=\u001b[39m \u001b[39m'\u001b[39m\u001b[39mweights/\u001b[39m\u001b[39m'\u001b[39m \u001b[39m+\u001b[39m file_name\n\u001b[0;32m----> 6\u001b[0m encoder, decoder \u001b[39m=\u001b[39m load_network(model, load_weights_folder)\n\u001b[1;32m      8\u001b[0m convert_to_onnx(\n\u001b[1;32m      9\u001b[0m     input_shape\u001b[39m=\u001b[39minput_shape, \n\u001b[1;32m     10\u001b[0m     output_dir\u001b[39m=\u001b[39mfile_name, \n\u001b[0;32m   (...)\u001b[0m\n\u001b[1;32m     13\u001b[0m     device\u001b[39m=\u001b[39m\u001b[39m'\u001b[39m\u001b[39mcuda:0\u001b[39m\u001b[39m'\u001b[39m,\n\u001b[1;32m     14\u001b[0m )\n",
            "Cell \u001b[0;32mIn[3], line 14\u001b[0m, in \u001b[0;36mload_network\u001b[0;34m(model, load_weights_folder, device)\u001b[0m\n\u001b[1;32m     11\u001b[0m encoder_path \u001b[39m=\u001b[39m os\u001b[39m.\u001b[39mpath\u001b[39m.\u001b[39mjoin(load_weights_folder, \u001b[39m'\u001b[39m\u001b[39mencoder.pth\u001b[39m\u001b[39m'\u001b[39m)\n\u001b[1;32m     12\u001b[0m decoder_path \u001b[39m=\u001b[39m os\u001b[39m.\u001b[39mpath\u001b[39m.\u001b[39mjoin(load_weights_folder, \u001b[39m'\u001b[39m\u001b[39mdepth.pth\u001b[39m\u001b[39m'\u001b[39m)\n\u001b[0;32m---> 14\u001b[0m encoder_dict \u001b[39m=\u001b[39m torch\u001b[39m.\u001b[39;49mload(encoder_path)\n\u001b[1;32m     15\u001b[0m decoder_dict \u001b[39m=\u001b[39m torch\u001b[39m.\u001b[39mload(decoder_path)\n\u001b[1;32m     17\u001b[0m feed_height \u001b[39m=\u001b[39m encoder_dict[\u001b[39m'\u001b[39m\u001b[39mheight\u001b[39m\u001b[39m'\u001b[39m]\n",
            "File \u001b[0;32m/mnt/mydata/anaconda3/envs/yolop/lib/python3.8/site-packages/torch/serialization.py:791\u001b[0m, in \u001b[0;36mload\u001b[0;34m(f, map_location, pickle_module, weights_only, **pickle_load_args)\u001b[0m\n\u001b[1;32m    788\u001b[0m \u001b[39mif\u001b[39;00m \u001b[39m'\u001b[39m\u001b[39mencoding\u001b[39m\u001b[39m'\u001b[39m \u001b[39mnot\u001b[39;00m \u001b[39min\u001b[39;00m pickle_load_args\u001b[39m.\u001b[39mkeys():\n\u001b[1;32m    789\u001b[0m     pickle_load_args[\u001b[39m'\u001b[39m\u001b[39mencoding\u001b[39m\u001b[39m'\u001b[39m] \u001b[39m=\u001b[39m \u001b[39m'\u001b[39m\u001b[39mutf-8\u001b[39m\u001b[39m'\u001b[39m\n\u001b[0;32m--> 791\u001b[0m \u001b[39mwith\u001b[39;00m _open_file_like(f, \u001b[39m'\u001b[39;49m\u001b[39mrb\u001b[39;49m\u001b[39m'\u001b[39;49m) \u001b[39mas\u001b[39;00m opened_file:\n\u001b[1;32m    792\u001b[0m     \u001b[39mif\u001b[39;00m _is_zipfile(opened_file):\n\u001b[1;32m    793\u001b[0m         \u001b[39m# The zipfile reader is going to advance the current file position.\u001b[39;00m\n\u001b[1;32m    794\u001b[0m         \u001b[39m# If we want to actually tail call to torch.jit.load, we need to\u001b[39;00m\n\u001b[1;32m    795\u001b[0m         \u001b[39m# reset back to the original position.\u001b[39;00m\n\u001b[1;32m    796\u001b[0m         orig_position \u001b[39m=\u001b[39m opened_file\u001b[39m.\u001b[39mtell()\n",
            "File \u001b[0;32m/mnt/mydata/anaconda3/envs/yolop/lib/python3.8/site-packages/torch/serialization.py:271\u001b[0m, in \u001b[0;36m_open_file_like\u001b[0;34m(name_or_buffer, mode)\u001b[0m\n\u001b[1;32m    269\u001b[0m \u001b[39mdef\u001b[39;00m \u001b[39m_open_file_like\u001b[39m(name_or_buffer, mode):\n\u001b[1;32m    270\u001b[0m     \u001b[39mif\u001b[39;00m _is_path(name_or_buffer):\n\u001b[0;32m--> 271\u001b[0m         \u001b[39mreturn\u001b[39;00m _open_file(name_or_buffer, mode)\n\u001b[1;32m    272\u001b[0m     \u001b[39melse\u001b[39;00m:\n\u001b[1;32m    273\u001b[0m         \u001b[39mif\u001b[39;00m \u001b[39m'\u001b[39m\u001b[39mw\u001b[39m\u001b[39m'\u001b[39m \u001b[39min\u001b[39;00m mode:\n",
            "File \u001b[0;32m/mnt/mydata/anaconda3/envs/yolop/lib/python3.8/site-packages/torch/serialization.py:252\u001b[0m, in \u001b[0;36m_open_file.__init__\u001b[0;34m(self, name, mode)\u001b[0m\n\u001b[1;32m    251\u001b[0m \u001b[39mdef\u001b[39;00m \u001b[39m__init__\u001b[39m(\u001b[39mself\u001b[39m, name, mode):\n\u001b[0;32m--> 252\u001b[0m     \u001b[39msuper\u001b[39m()\u001b[39m.\u001b[39m\u001b[39m__init__\u001b[39m(\u001b[39mopen\u001b[39;49m(name, mode))\n",
            "\u001b[0;31mFileNotFoundError\u001b[0m: [Errno 2] No such file or directory: 'weights/lite-mono_640x192/encoder.pth'"
          ]
        }
      ],
      "source": [
        "file_name = 'lite-mono_640x192'\n",
        "input_shape = (640, 192)\n",
        "model='lite-mono'\n",
        "\n",
        "load_weights_folder = 'weights/' + file_name\n",
        "encoder, decoder = load_network(model, load_weights_folder)\n",
        "\n",
        "convert_to_onnx(\n",
        "    input_shape=input_shape, \n",
        "    output_dir=file_name, \n",
        "    encoder=encoder, \n",
        "    decoder=decoder, \n",
        "    device='cuda:0',\n",
        ")"
      ]
    },
    {
      "cell_type": "code",
      "execution_count": null,
      "metadata": {
        "id": "ojNUTUA33Rd3"
      },
      "outputs": [],
      "source": [
        "file_name = 'lite-mono-small_640x192'\n",
        "input_shape = (640, 192)\n",
        "model='lite-mono-small'\n",
        "\n",
        "load_weights_folder = 'weights/' + file_name\n",
        "encoder, decoder = load_network(model, load_weights_folder)\n",
        "\n",
        "convert_to_onnx(\n",
        "    input_shape=input_shape, \n",
        "    output_dir=file_name, \n",
        "    encoder=encoder, \n",
        "    decoder=decoder, \n",
        "    device='cuda:0',\n",
        ")"
      ]
    },
    {
      "cell_type": "code",
      "execution_count": null,
      "metadata": {
        "id": "YCiCC0pN3dI8"
      },
      "outputs": [],
      "source": [
        "file_name = 'lite-mono-tiny_640x192'\n",
        "input_shape = (640, 192)\n",
        "model='lite-mono-tiny'\n",
        "\n",
        "load_weights_folder = 'weights/' + file_name\n",
        "encoder, decoder = load_network(model, load_weights_folder)\n",
        "\n",
        "convert_to_onnx(\n",
        "    input_shape=input_shape, \n",
        "    output_dir=file_name, \n",
        "    encoder=encoder, \n",
        "    decoder=decoder, \n",
        "    device='cuda:0',\n",
        ")"
      ]
    },
    {
      "cell_type": "code",
      "execution_count": null,
      "metadata": {
        "id": "aJHlnrHG3vxZ"
      },
      "outputs": [],
      "source": [
        "file_name = 'lite-mono-8m_640x192'\n",
        "input_shape = (640, 192)\n",
        "model='lite-mono-8m'\n",
        "\n",
        "load_weights_folder = 'weights/' + file_name\n",
        "encoder, decoder = load_network(model, load_weights_folder)\n",
        "\n",
        "convert_to_onnx(\n",
        "    input_shape=input_shape, \n",
        "    output_dir=file_name, \n",
        "    encoder=encoder, \n",
        "    decoder=decoder, \n",
        "    device='cuda:0',\n",
        ")"
      ]
    },
    {
      "cell_type": "code",
      "execution_count": null,
      "metadata": {
        "id": "bSErbKFM3vvC"
      },
      "outputs": [],
      "source": [
        "file_name = 'lite-mono_1024x320'\n",
        "input_shape = (1024, 320)\n",
        "model='lite-mono'\n",
        "\n",
        "load_weights_folder = 'weights/' + file_name\n",
        "encoder, decoder = load_network(model, load_weights_folder)\n",
        "\n",
        "convert_to_onnx(\n",
        "    input_shape=input_shape, \n",
        "    output_dir=file_name, \n",
        "    encoder=encoder, \n",
        "    decoder=decoder, \n",
        "    device='cuda:0',\n",
        ")"
      ]
    },
    {
      "cell_type": "code",
      "execution_count": null,
      "metadata": {
        "id": "wrfyUXSQ3vtA"
      },
      "outputs": [],
      "source": [
        "file_name = 'lite-mono-small_1024x320'\n",
        "input_shape = (1024, 320)\n",
        "model='lite-mono-small'\n",
        "\n",
        "load_weights_folder = 'weights/' + file_name\n",
        "encoder, decoder = load_network(model, load_weights_folder)\n",
        "\n",
        "convert_to_onnx(\n",
        "    input_shape=input_shape, \n",
        "    output_dir=file_name, \n",
        "    encoder=encoder, \n",
        "    decoder=decoder, \n",
        "    device='cuda:0',\n",
        ")"
      ]
    },
    {
      "cell_type": "code",
      "execution_count": null,
      "metadata": {
        "id": "_LHujSGB3vqI"
      },
      "outputs": [],
      "source": [
        "file_name = 'lite-mono-tiny_1024x320'\n",
        "input_shape = (1024, 320)\n",
        "model='lite-mono-tiny'\n",
        "\n",
        "load_weights_folder = 'weights/' + file_name\n",
        "encoder, decoder = load_network(model, load_weights_folder)\n",
        "\n",
        "convert_to_onnx(\n",
        "    input_shape=input_shape, \n",
        "    output_dir=file_name, \n",
        "    encoder=encoder, \n",
        "    decoder=decoder, \n",
        "    device='cuda:0',\n",
        ")"
      ]
    },
    {
      "cell_type": "code",
      "execution_count": null,
      "metadata": {
        "id": "htilgap07DwL"
      },
      "outputs": [],
      "source": [
        "file_name = 'lite-mono-8m_1024x320'\n",
        "input_shape = (1024, 320)\n",
        "model='lite-mono-8m'\n",
        "\n",
        "load_weights_folder = 'weights/' + file_name\n",
        "encoder, decoder = load_network(model, load_weights_folder)\n",
        "\n",
        "convert_to_onnx(\n",
        "    input_shape=input_shape, \n",
        "    output_dir=file_name, \n",
        "    encoder=encoder, \n",
        "    decoder=decoder, \n",
        "    device='cuda:0',\n",
        ")"
      ]
    },
    {
      "cell_type": "markdown",
      "metadata": {
        "id": "SlE3XOkjEGDr"
      },
      "source": [
        "# zip"
      ]
    },
    {
      "cell_type": "code",
      "execution_count": null,
      "metadata": {
        "id": "eFlAzubjEG-d"
      },
      "outputs": [],
      "source": [
        "!mkdir onnx_weights"
      ]
    },
    {
      "cell_type": "code",
      "execution_count": null,
      "metadata": {
        "id": "Mdk8BSmyEQK2"
      },
      "outputs": [],
      "source": [
        "!zip onnx_weights/lite-mono_640x192 -r lite-mono_640x192\n",
        "!zip onnx_weights/lite-mono-small_640x192 -r lite-mono-small_640x192\n",
        "!zip onnx_weights/lite-mono-tiny_640x192 -r lite-mono-tiny_640x192\n",
        "!zip onnx_weights/lite-mono-8m_640x192 -r lite-mono-8m_640x192\n",
        "!zip onnx_weights/lite-mono_1024x320 -r lite-mono_1024x320\n",
        "!zip onnx_weights/lite-mono-small_1024x320 -r lite-mono-small_1024x320\n",
        "!zip onnx_weights/lite-mono-tiny_1024x320 -r lite-mono-tiny_1024x320\n",
        "!zip onnx_weights/lite-mono-8m_1024x320 -r lite-mono-8m_1024x320\n",
        "\n",
        "!zip onnx_weights -r onnx_weights"
      ]
    }
  ],
  "metadata": {
    "accelerator": "GPU",
    "colab": {
      "provenance": []
    },
    "gpuClass": "standard",
    "kernelspec": {
      "display_name": "Python 3",
      "name": "python3"
    },
    "language_info": {
      "codemirror_mode": {
        "name": "ipython",
        "version": 3
      },
      "file_extension": ".py",
      "mimetype": "text/x-python",
      "name": "python",
      "nbconvert_exporter": "python",
      "pygments_lexer": "ipython3",
      "version": "3.8.17"
    }
  },
  "nbformat": 4,
  "nbformat_minor": 0
}
